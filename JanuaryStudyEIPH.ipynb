{
 "cells": [
  {
   "cell_type": "code",
   "execution_count": 1,
   "metadata": {},
   "outputs": [],
   "source": [
    "%reload_ext autoreload\n",
    "%autoreload 2\n",
    "%matplotlib inline"
   ]
  },
  {
   "cell_type": "code",
   "execution_count": 2,
   "metadata": {},
   "outputs": [],
   "source": [
    "import numpy as np\n",
    "from glob import glob\n",
    "from pathlib import Path\n",
    "import matplotlib.pyplot as plt\n",
    "import pandas as pd \n",
    "import seaborn as sns\n",
    "import matplotlib\n",
    "from math import pow, sqrt, ceil\n",
    "from collections import OrderedDict\n",
    "\n",
    "from sklearn.metrics import accuracy_score, cohen_kappa_score, confusion_matrix"
   ]
  },
  {
   "cell_type": "code",
   "execution_count": 10,
   "metadata": {},
   "outputs": [],
   "source": [
    "from Analysis.annotations import Annotation\n",
    "from Analysis.image import Image\n",
    "from Analysis.expert import Expert, DatasetType, ProjectType"
   ]
  },
  {
   "cell_type": "code",
   "execution_count": 4,
   "metadata": {},
   "outputs": [],
   "source": [
    "from utils import *"
   ]
  },
  {
   "cell_type": "code",
   "execution_count": 14,
   "metadata": {},
   "outputs": [],
   "source": [
    "path = Path(\"Results/EIPH/FirstRound\")\n",
    "files = glob(str(path)+\"/Participants/*.txt\")\n",
    "gt = glob(str(path)+\"/GT/*.txt\")\n",
    "users_first_round = []\n",
    "ground_truth = Expert(\"GT\", BBType.GroundTruth, DatasetType.EIPH, ProjectType.Annotation)\n",
    "ground_truth.add_file(gt[0])\n",
    "\n",
    "for file_name in files:\n",
    "    participant = \"Participant_\" + Path(file_name).stem.split(\"_\")[-1]\n",
    "    \n",
    "    expert = Expert(participant, BBType.Detected, DatasetType.EIPH, ProjectType.Annotation)\n",
    "    expert.add_file(file_name)\n",
    "\n",
    "    users_first_round.append(expert)"
   ]
  },
  {
   "cell_type": "code",
   "execution_count": 6,
   "metadata": {},
   "outputs": [
    {
     "data": {
      "text/plain": [
       "GT:  Annos: 282 Seconds: 0.0"
      ]
     },
     "execution_count": 6,
     "metadata": {},
     "output_type": "execute_result"
    }
   ],
   "source": [
    "ground_truth"
   ]
  },
  {
   "cell_type": "code",
   "execution_count": 7,
   "metadata": {},
   "outputs": [
    {
     "name": "stdout",
     "output_type": "stream",
     "text": [
      "Participant_11:  Annos: 241 Seconds: 59.55 mIoU: 0.4267045380140594\n",
      "Participant_12:  Annos: 242 Seconds: 69.4 mIoU: 0.42790293272153945\n",
      "Participant_13:  Annos: 201 Seconds: 57.8 mIoU: 0.4090758729304377\n",
      "Participant_3:  Annos: 295 Seconds: 65.75 mIoU: 0.3617197878149475\n",
      "Participant_4:  Annos: 246 Seconds: 104.1 mIoU: 0.5269089301081571\n",
      "Participant_5:  Annos: 218 Seconds: 40.3 mIoU: 0.469972392013388\n",
      "Participant_6:  Annos: 228 Seconds: 45.3 mIoU: 0.484920944524139\n",
      "Participant_7:  Annos: 240 Seconds: 35.6 mIoU: 0.42622250537726386\n",
      "Participant_8:  Annos: 232 Seconds: 30.35 mIoU: 0.36747671852826347\n",
      "Participant_9:  Annos: 210 Seconds: 57.95 mIoU: 0.4356955650581372\n"
     ]
    }
   ],
   "source": [
    "for user in users_first_round:\n",
    "    print(str(user) + \" mIoU: {}\".format(user.calc_MIoU(ground_truth)))"
   ]
  },
  {
   "cell_type": "code",
   "execution_count": 8,
   "metadata": {},
   "outputs": [
    {
     "data": {
      "text/plain": [
       "0.43366001870903326"
      ]
     },
     "execution_count": 8,
     "metadata": {},
     "output_type": "execute_result"
    }
   ],
   "source": [
    "np.mean([user.calc_MIoU(ground_truth) for user in users_first_round])"
   ]
  },
  {
   "cell_type": "code",
   "execution_count": null,
   "metadata": {},
   "outputs": [],
   "source": []
  }
 ],
 "metadata": {
  "kernelspec": {
   "display_name": "Python 3",
   "language": "python",
   "name": "python3"
  },
  "language_info": {
   "codemirror_mode": {
    "name": "ipython",
    "version": 3
   },
   "file_extension": ".py",
   "mimetype": "text/x-python",
   "name": "python",
   "nbconvert_exporter": "python",
   "pygments_lexer": "ipython3",
   "version": "3.6.7"
  }
 },
 "nbformat": 4,
 "nbformat_minor": 2
}
