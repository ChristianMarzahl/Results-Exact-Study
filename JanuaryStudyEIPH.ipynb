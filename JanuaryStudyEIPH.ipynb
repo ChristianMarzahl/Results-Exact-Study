{
 "cells": [
  {
   "cell_type": "code",
   "execution_count": 1,
   "metadata": {},
   "outputs": [],
   "source": [
    "%reload_ext autoreload\n",
    "%autoreload 2\n",
    "%matplotlib inline"
   ]
  },
  {
   "cell_type": "code",
   "execution_count": 2,
   "metadata": {},
   "outputs": [],
   "source": [
    "import numpy as np\n",
    "from glob import glob\n",
    "from pathlib import Path\n",
    "import matplotlib.pyplot as plt\n",
    "import pandas as pd \n",
    "import seaborn as sns\n",
    "import matplotlib\n",
    "from math import pow, sqrt, ceil\n",
    "from collections import OrderedDict\n",
    "\n",
    "from sklearn.metrics import accuracy_score, cohen_kappa_score, confusion_matrix"
   ]
  },
  {
   "cell_type": "code",
   "execution_count": 3,
   "metadata": {},
   "outputs": [],
   "source": [
    "from Analysis.annotations import Annotation\n",
    "from Analysis.image import Image\n",
    "from Analysis.expert import Expert, DatasetType, ProjectType"
   ]
  },
  {
   "cell_type": "code",
   "execution_count": 4,
   "metadata": {},
   "outputs": [],
   "source": [
    "from utils import *"
   ]
  },
  {
   "cell_type": "code",
   "execution_count": 5,
   "metadata": {},
   "outputs": [],
   "source": [
    "path = Path(\"Results/EIPH/FirstRound\")\n",
    "files = glob(str(path)+\"/Participants/*.txt\")\n",
    "gt_path = str(path)+\"/GT/ground truth.txt\"\n",
    "\n",
    "users_first_round = []\n",
    "ground_truth = Expert(\"GT\", BBType.GroundTruth, DatasetType.EIPH_Exact, ProjectType.Annotation)\n",
    "ground_truth.add_file(gt_path)\n",
    "\n",
    "for file_name in files:\n",
    "    participant = \"Participant_\" + Path(file_name).stem.split(\"_\")[-1]\n",
    "    \n",
    "    expert = Expert(participant, BBType.Detected, DatasetType.EIPH_Exact, ProjectType.Annotation)\n",
    "    expert.add_file(file_name)\n",
    "\n",
    "    users_first_round.append(expert)"
   ]
  },
  {
   "cell_type": "code",
   "execution_count": 6,
   "metadata": {},
   "outputs": [
    {
     "data": {
      "text/plain": [
       "GT:  Annos: 237 Seconds: 0.0 Type: EIPH_Exact Project: Annotation"
      ]
     },
     "execution_count": 6,
     "metadata": {},
     "output_type": "execute_result"
    }
   ],
   "source": [
    "ground_truth"
   ]
  },
  {
   "cell_type": "code",
   "execution_count": 7,
   "metadata": {},
   "outputs": [
    {
     "name": "stdout",
     "output_type": "stream",
     "text": [
      "Participant_11:  Annos: 220 Seconds: 57.25 Type: EIPH_Exact Project: Annotation mIoU: 0.4726323367046443\n",
      "Participant_12:  Annos: 232 Seconds: 68.55 Type: EIPH_Exact Project: Annotation mIoU: 0.4784520856740563\n",
      "Participant_13:  Annos: 180 Seconds: 55.9 Type: EIPH_Exact Project: Annotation mIoU: 0.458651975765022\n",
      "Participant_3:  Annos: 213 Seconds: 29.75 Type: EIPH_Exact Project: Annotation mIoU: 0.4010948335671599\n",
      "Participant_4:  Annos: 236 Seconds: 99.55 Type: EIPH_Exact Project: Annotation mIoU: 0.5981276645470117\n",
      "Participant_5:  Annos: 190 Seconds: 36.0 Type: EIPH_Exact Project: Annotation mIoU: 0.5147334479279967\n",
      "Participant_6:  Annos: 199 Seconds: 43.75 Type: EIPH_Exact Project: Annotation mIoU: 0.5335422857216442\n",
      "Participant_7:  Annos: 212 Seconds: 34.25 Type: EIPH_Exact Project: Annotation mIoU: 0.42720048144293327\n",
      "Participant_8:  Annos: 197 Seconds: 29.8 Type: EIPH_Exact Project: Annotation mIoU: 0.3879706578366469\n",
      "Participant_9:  Annos: 182 Seconds: 56.9 Type: EIPH_Exact Project: Annotation mIoU: 0.4483804825988937\n"
     ]
    }
   ],
   "source": [
    "for user in users_first_round:\n",
    "    print(str(user) + \" mIoU: {}\".format(user.calc_MIoU(ground_truth)))"
   ]
  },
  {
   "cell_type": "code",
   "execution_count": 8,
   "metadata": {},
   "outputs": [
    {
     "name": "stderr",
     "output_type": "stream",
     "text": [
      "D:\\ProgProjekte\\Python\\Object-Detection-Metrics\\lib\\Evaluator.py:126: RuntimeWarning: invalid value encountered in true_divide\n",
      "  rec = acc_TP / npos\n"
     ]
    },
    {
     "data": {
      "text/html": [
       "<div>\n",
       "<style scoped>\n",
       "    .dataframe tbody tr th:only-of-type {\n",
       "        vertical-align: middle;\n",
       "    }\n",
       "\n",
       "    .dataframe tbody tr th {\n",
       "        vertical-align: top;\n",
       "    }\n",
       "\n",
       "    .dataframe thead th {\n",
       "        text-align: right;\n",
       "    }\n",
       "</style>\n",
       "<table border=\"1\" class=\"dataframe\">\n",
       "  <thead>\n",
       "    <tr style=\"text-align: right;\">\n",
       "      <th></th>\n",
       "      <th>Name</th>\n",
       "      <th>Total Changed</th>\n",
       "      <th>Found Changed</th>\n",
       "      <th>Total Deleted</th>\n",
       "      <th>Found Deleted</th>\n",
       "      <th>Total NMS</th>\n",
       "      <th>Found NMS</th>\n",
       "    </tr>\n",
       "  </thead>\n",
       "  <tbody>\n",
       "    <tr>\n",
       "      <th>0</th>\n",
       "      <td>Participant_11</td>\n",
       "      <td>60</td>\n",
       "      <td>42</td>\n",
       "      <td>5</td>\n",
       "      <td>2</td>\n",
       "      <td>10</td>\n",
       "      <td>3</td>\n",
       "    </tr>\n",
       "    <tr>\n",
       "      <th>1</th>\n",
       "      <td>Participant_12</td>\n",
       "      <td>60</td>\n",
       "      <td>34</td>\n",
       "      <td>5</td>\n",
       "      <td>1</td>\n",
       "      <td>10</td>\n",
       "      <td>3</td>\n",
       "    </tr>\n",
       "    <tr>\n",
       "      <th>2</th>\n",
       "      <td>Participant_13</td>\n",
       "      <td>60</td>\n",
       "      <td>37</td>\n",
       "      <td>5</td>\n",
       "      <td>1</td>\n",
       "      <td>10</td>\n",
       "      <td>1</td>\n",
       "    </tr>\n",
       "    <tr>\n",
       "      <th>3</th>\n",
       "      <td>Participant_3</td>\n",
       "      <td>60</td>\n",
       "      <td>31</td>\n",
       "      <td>5</td>\n",
       "      <td>0</td>\n",
       "      <td>10</td>\n",
       "      <td>2</td>\n",
       "    </tr>\n",
       "    <tr>\n",
       "      <th>4</th>\n",
       "      <td>Participant_4</td>\n",
       "      <td>60</td>\n",
       "      <td>44</td>\n",
       "      <td>5</td>\n",
       "      <td>3</td>\n",
       "      <td>10</td>\n",
       "      <td>4</td>\n",
       "    </tr>\n",
       "    <tr>\n",
       "      <th>5</th>\n",
       "      <td>Participant_5</td>\n",
       "      <td>60</td>\n",
       "      <td>39</td>\n",
       "      <td>5</td>\n",
       "      <td>0</td>\n",
       "      <td>10</td>\n",
       "      <td>1</td>\n",
       "    </tr>\n",
       "    <tr>\n",
       "      <th>6</th>\n",
       "      <td>Participant_6</td>\n",
       "      <td>60</td>\n",
       "      <td>41</td>\n",
       "      <td>5</td>\n",
       "      <td>2</td>\n",
       "      <td>10</td>\n",
       "      <td>1</td>\n",
       "    </tr>\n",
       "    <tr>\n",
       "      <th>7</th>\n",
       "      <td>Participant_7</td>\n",
       "      <td>60</td>\n",
       "      <td>34</td>\n",
       "      <td>5</td>\n",
       "      <td>0</td>\n",
       "      <td>10</td>\n",
       "      <td>1</td>\n",
       "    </tr>\n",
       "    <tr>\n",
       "      <th>8</th>\n",
       "      <td>Participant_8</td>\n",
       "      <td>60</td>\n",
       "      <td>22</td>\n",
       "      <td>5</td>\n",
       "      <td>1</td>\n",
       "      <td>10</td>\n",
       "      <td>1</td>\n",
       "    </tr>\n",
       "    <tr>\n",
       "      <th>9</th>\n",
       "      <td>Participant_9</td>\n",
       "      <td>60</td>\n",
       "      <td>35</td>\n",
       "      <td>5</td>\n",
       "      <td>4</td>\n",
       "      <td>10</td>\n",
       "      <td>1</td>\n",
       "    </tr>\n",
       "  </tbody>\n",
       "</table>\n",
       "</div>"
      ],
      "text/plain": [
       "             Name  Total Changed  Found Changed  Total Deleted  Found Deleted  \\\n",
       "0  Participant_11             60             42              5              2   \n",
       "1  Participant_12             60             34              5              1   \n",
       "2  Participant_13             60             37              5              1   \n",
       "3   Participant_3             60             31              5              0   \n",
       "4   Participant_4             60             44              5              3   \n",
       "5   Participant_5             60             39              5              0   \n",
       "6   Participant_6             60             41              5              2   \n",
       "7   Participant_7             60             34              5              0   \n",
       "8   Participant_8             60             22              5              1   \n",
       "9   Participant_9             60             35              5              4   \n",
       "\n",
       "   Total NMS  Found NMS  \n",
       "0         10          3  \n",
       "1         10          3  \n",
       "2         10          1  \n",
       "3         10          2  \n",
       "4         10          4  \n",
       "5         10          1  \n",
       "6         10          1  \n",
       "7         10          1  \n",
       "8         10          1  \n",
       "9         10          1  "
      ]
     },
     "execution_count": 8,
     "metadata": {},
     "output_type": "execute_result"
    }
   ],
   "source": [
    "deleted_path = str(path)+\"/GT/deleted.txt\"\n",
    "changed_path = str(path)+\"/GT/changed.txt\"\n",
    "nms_path = str(path)+\"/GT/nms.txt\"\n",
    "\n",
    "\n",
    "deleted_eiph = Expert(\"deleted\", BBType.GroundTruth, DatasetType.EIPH_Exact, ProjectType.Annotation)\n",
    "deleted_eiph.add_file(deleted_path)\n",
    "\n",
    "changed_eiph = Expert(\"changed\", BBType.GroundTruth, DatasetType.EIPH_Exact, ProjectType.Annotation)\n",
    "changed_eiph.add_file(changed_path)\n",
    "\n",
    "nms_eiph = Expert(\"changed\", BBType.GroundTruth, DatasetType.EIPH_Exact, ProjectType.Annotation)\n",
    "nms_eiph.add_file(nms_path)\n",
    "\n",
    "\n",
    "metrics = []\n",
    "for user in users_first_round:\n",
    "    total_changed_cells = 0\n",
    "    found_changed_cells = 0\n",
    "    for metric in user.calc_metrics(changed_eiph):\n",
    "        total_changed_cells += int(metric['total positives'])\n",
    "        found_changed_cells += int(metric['total TP'])\n",
    "        \n",
    "    total_deleted_cells = 0\n",
    "    found_deleted_cells = 0\n",
    "    for metric in user.calc_metrics(deleted_eiph):\n",
    "        total_deleted_cells += int(metric['total positives'])\n",
    "        found_deleted_cells += int(metric['total TP'])\n",
    "        \n",
    "    total_nms_cells = 0\n",
    "    found_nms_cells = 0\n",
    "    for metric in user.calc_metrics(nms_eiph):\n",
    "        total_nms_cells += int(metric['total positives'])\n",
    "        found_nms_cells += int(metric['total TP'])\n",
    "        \n",
    "    \n",
    "    metrics.append([user.expert, total_changed_cells, found_changed_cells, total_deleted_cells, found_deleted_cells, total_nms_cells, found_nms_cells])\n",
    "pd.DataFrame(metrics, columns=['Name', 'Total Changed', \"Found Changed\", \"Total Deleted\", \"Found Deleted\", \"Total NMS\", \"Found NMS\"])"
   ]
  },
  {
   "cell_type": "code",
   "execution_count": null,
   "metadata": {},
   "outputs": [],
   "source": []
  }
 ],
 "metadata": {
  "kernelspec": {
   "display_name": "Python 3",
   "language": "python",
   "name": "python3"
  },
  "language_info": {
   "codemirror_mode": {
    "name": "ipython",
    "version": 3
   },
   "file_extension": ".py",
   "mimetype": "text/x-python",
   "name": "python",
   "nbconvert_exporter": "python",
   "pygments_lexer": "ipython3",
   "version": "3.6.7"
  }
 },
 "nbformat": 4,
 "nbformat_minor": 2
}
