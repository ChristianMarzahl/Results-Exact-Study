{
 "cells": [
  {
   "cell_type": "code",
   "execution_count": 1,
   "metadata": {},
   "outputs": [],
   "source": [
    "%reload_ext autoreload\n",
    "%autoreload 2\n",
    "%matplotlib inline"
   ]
  },
  {
   "cell_type": "code",
   "execution_count": 2,
   "metadata": {},
   "outputs": [],
   "source": [
    "import numpy as np\n",
    "from glob import glob\n",
    "from pathlib import Path\n",
    "import matplotlib.pyplot as plt\n",
    "import pandas as pd \n",
    "import seaborn as sns\n",
    "import matplotlib\n",
    "from math import pow, sqrt, ceil\n",
    "from collections import OrderedDict\n",
    "\n",
    "from sklearn.metrics import accuracy_score, cohen_kappa_score, confusion_matrix"
   ]
  },
  {
   "cell_type": "code",
   "execution_count": 3,
   "metadata": {},
   "outputs": [],
   "source": [
    "from Analysis.annotations import Annotation\n",
    "from Analysis.image import Image\n",
    "from Analysis.expert import Expert, DatasetType, ProjectType"
   ]
  },
  {
   "cell_type": "code",
   "execution_count": 4,
   "metadata": {},
   "outputs": [],
   "source": [
    "from utils import *"
   ]
  },
  {
   "cell_type": "code",
   "execution_count": 5,
   "metadata": {},
   "outputs": [],
   "source": [
    "path = Path(\"Results/Asthma/FirstRound\")\n",
    "files = glob(str(path)+\"/Participants/*.txt\")\n",
    "gt_path = str(path)+\"/GT/ground truth.txt\"\n",
    "\n",
    "users_first_round = []\n",
    "ground_truth = Expert(\"GT\", BBType.GroundTruth, DatasetType.Asthma, ProjectType.Annotation)\n",
    "ground_truth.add_file(gt_path)\n",
    "\n",
    "for file_name in files:\n",
    "    participant = \"Participant_\" + Path(file_name).stem.split(\"_\")[-1]\n",
    "    \n",
    "    expert = Expert(participant, BBType.Detected, DatasetType.Asthma, ProjectType.Annotation)\n",
    "    expert.add_file(file_name)\n",
    "\n",
    "    users_first_round.append(expert)"
   ]
  },
  {
   "cell_type": "code",
   "execution_count": 6,
   "metadata": {},
   "outputs": [
    {
     "data": {
      "text/plain": [
       "GT:  Annos: 458 Seconds: 0.0 Type: Asthma Project: Annotation"
      ]
     },
     "execution_count": 6,
     "metadata": {},
     "output_type": "execute_result"
    }
   ],
   "source": [
    "ground_truth"
   ]
  },
  {
   "cell_type": "code",
   "execution_count": 7,
   "metadata": {},
   "outputs": [
    {
     "name": "stdout",
     "output_type": "stream",
     "text": [
      "Participant_11:  Annos: 408 Seconds: 114.5 Type: Asthma Project: Annotation mIoU: 0.765555282730989\n",
      "Participant_12:  Annos: 410 Seconds: 164.76190476190476 Type: Asthma Project: Annotation mIoU: 0.7422009626832827\n",
      "Participant_13:  Annos: 402 Seconds: 113.38095238095238 Type: Asthma Project: Annotation mIoU: 0.7753388947263968\n",
      "Participant_3:  Annos: 397 Seconds: 56.2 Type: Asthma Project: Annotation mIoU: 0.5641239801706175\n",
      "Participant_4:  Annos: 413 Seconds: 140.25 Type: Asthma Project: Annotation mIoU: 0.7774293463099948\n",
      "Participant_5:  Annos: 406 Seconds: 96.6 Type: Asthma Project: Annotation mIoU: 0.8226910144113211\n",
      "Participant_6:  Annos: 402 Seconds: 72.8 Type: Asthma Project: Annotation mIoU: 0.7835845035027322\n",
      "Participant_7:  Annos: 409 Seconds: 95.8 Type: Asthma Project: Annotation mIoU: 0.5932228978718947\n",
      "Participant_8:  Annos: 410 Seconds: 85.15 Type: Asthma Project: Annotation mIoU: 0.7490406825045358\n",
      "Participant_9:  Annos: 406 Seconds: 126.5 Type: Asthma Project: Annotation mIoU: 0.7678581580808641\n"
     ]
    }
   ],
   "source": [
    "for user in users_first_round:\n",
    "    print(str(user) + \" mIoU: {}\".format(user.calc_MIoU(ground_truth)))"
   ]
  },
  {
   "cell_type": "code",
   "execution_count": 8,
   "metadata": {},
   "outputs": [
    {
     "name": "stderr",
     "output_type": "stream",
     "text": [
      "D:\\ProgProjekte\\Python\\Object-Detection-Metrics\\lib\\Evaluator.py:126: RuntimeWarning: invalid value encountered in true_divide\n",
      "  rec = acc_TP / npos\n"
     ]
    },
    {
     "data": {
      "text/html": [
       "<div>\n",
       "<style scoped>\n",
       "    .dataframe tbody tr th:only-of-type {\n",
       "        vertical-align: middle;\n",
       "    }\n",
       "\n",
       "    .dataframe tbody tr th {\n",
       "        vertical-align: top;\n",
       "    }\n",
       "\n",
       "    .dataframe thead th {\n",
       "        text-align: right;\n",
       "    }\n",
       "</style>\n",
       "<table border=\"1\" class=\"dataframe\">\n",
       "  <thead>\n",
       "    <tr style=\"text-align: right;\">\n",
       "      <th></th>\n",
       "      <th>Name</th>\n",
       "      <th>Total Changed</th>\n",
       "      <th>Found Changed</th>\n",
       "      <th>Total Deleted</th>\n",
       "      <th>Found Deleted</th>\n",
       "      <th>Total NMS</th>\n",
       "      <th>Found NMS</th>\n",
       "    </tr>\n",
       "  </thead>\n",
       "  <tbody>\n",
       "    <tr>\n",
       "      <th>0</th>\n",
       "      <td>Participant_11</td>\n",
       "      <td>15</td>\n",
       "      <td>13</td>\n",
       "      <td>5</td>\n",
       "      <td>5</td>\n",
       "      <td>8</td>\n",
       "      <td>4</td>\n",
       "    </tr>\n",
       "    <tr>\n",
       "      <th>1</th>\n",
       "      <td>Participant_12</td>\n",
       "      <td>15</td>\n",
       "      <td>13</td>\n",
       "      <td>5</td>\n",
       "      <td>4</td>\n",
       "      <td>8</td>\n",
       "      <td>5</td>\n",
       "    </tr>\n",
       "    <tr>\n",
       "      <th>2</th>\n",
       "      <td>Participant_13</td>\n",
       "      <td>15</td>\n",
       "      <td>15</td>\n",
       "      <td>5</td>\n",
       "      <td>3</td>\n",
       "      <td>8</td>\n",
       "      <td>4</td>\n",
       "    </tr>\n",
       "    <tr>\n",
       "      <th>3</th>\n",
       "      <td>Participant_3</td>\n",
       "      <td>15</td>\n",
       "      <td>13</td>\n",
       "      <td>5</td>\n",
       "      <td>5</td>\n",
       "      <td>8</td>\n",
       "      <td>6</td>\n",
       "    </tr>\n",
       "    <tr>\n",
       "      <th>4</th>\n",
       "      <td>Participant_4</td>\n",
       "      <td>15</td>\n",
       "      <td>14</td>\n",
       "      <td>5</td>\n",
       "      <td>3</td>\n",
       "      <td>8</td>\n",
       "      <td>4</td>\n",
       "    </tr>\n",
       "    <tr>\n",
       "      <th>5</th>\n",
       "      <td>Participant_5</td>\n",
       "      <td>15</td>\n",
       "      <td>12</td>\n",
       "      <td>5</td>\n",
       "      <td>5</td>\n",
       "      <td>8</td>\n",
       "      <td>5</td>\n",
       "    </tr>\n",
       "    <tr>\n",
       "      <th>6</th>\n",
       "      <td>Participant_6</td>\n",
       "      <td>15</td>\n",
       "      <td>13</td>\n",
       "      <td>5</td>\n",
       "      <td>5</td>\n",
       "      <td>8</td>\n",
       "      <td>4</td>\n",
       "    </tr>\n",
       "    <tr>\n",
       "      <th>7</th>\n",
       "      <td>Participant_7</td>\n",
       "      <td>15</td>\n",
       "      <td>11</td>\n",
       "      <td>5</td>\n",
       "      <td>4</td>\n",
       "      <td>8</td>\n",
       "      <td>5</td>\n",
       "    </tr>\n",
       "    <tr>\n",
       "      <th>8</th>\n",
       "      <td>Participant_8</td>\n",
       "      <td>15</td>\n",
       "      <td>12</td>\n",
       "      <td>5</td>\n",
       "      <td>3</td>\n",
       "      <td>8</td>\n",
       "      <td>5</td>\n",
       "    </tr>\n",
       "    <tr>\n",
       "      <th>9</th>\n",
       "      <td>Participant_9</td>\n",
       "      <td>15</td>\n",
       "      <td>13</td>\n",
       "      <td>5</td>\n",
       "      <td>5</td>\n",
       "      <td>8</td>\n",
       "      <td>3</td>\n",
       "    </tr>\n",
       "  </tbody>\n",
       "</table>\n",
       "</div>"
      ],
      "text/plain": [
       "             Name  Total Changed  Found Changed  Total Deleted  Found Deleted  \\\n",
       "0  Participant_11             15             13              5              5   \n",
       "1  Participant_12             15             13              5              4   \n",
       "2  Participant_13             15             15              5              3   \n",
       "3   Participant_3             15             13              5              5   \n",
       "4   Participant_4             15             14              5              3   \n",
       "5   Participant_5             15             12              5              5   \n",
       "6   Participant_6             15             13              5              5   \n",
       "7   Participant_7             15             11              5              4   \n",
       "8   Participant_8             15             12              5              3   \n",
       "9   Participant_9             15             13              5              5   \n",
       "\n",
       "   Total NMS  Found NMS  \n",
       "0          8          4  \n",
       "1          8          5  \n",
       "2          8          4  \n",
       "3          8          6  \n",
       "4          8          4  \n",
       "5          8          5  \n",
       "6          8          4  \n",
       "7          8          5  \n",
       "8          8          5  \n",
       "9          8          3  "
      ]
     },
     "execution_count": 8,
     "metadata": {},
     "output_type": "execute_result"
    }
   ],
   "source": [
    "deleted_path = str(path)+\"/GT/deleted.txt\"\n",
    "changed_path = str(path)+\"/GT/changed.txt\"\n",
    "nms_path = str(path)+\"/GT/nms.txt\"\n",
    "\n",
    "\n",
    "deleted = Expert(\"deleted\", BBType.GroundTruth, DatasetType.Asthma, ProjectType.Annotation)\n",
    "deleted.add_file(deleted_path)\n",
    "\n",
    "changed = Expert(\"changed\", BBType.GroundTruth, DatasetType.Asthma, ProjectType.Annotation)\n",
    "changed.add_file(changed_path)\n",
    "\n",
    "nms = Expert(\"changed\", BBType.GroundTruth, DatasetType.Asthma, ProjectType.Annotation)\n",
    "nms.add_file(nms_path)\n",
    "\n",
    "\n",
    "metrics = []\n",
    "for user in users_first_round:\n",
    "    total_changed_cells = 0\n",
    "    found_changed_cells = 0\n",
    "    for metric in user.calc_metrics(changed):\n",
    "        total_changed_cells += int(metric['total positives'])\n",
    "        found_changed_cells += int(metric['total TP'])\n",
    "        \n",
    "    total_deleted_cells = 0\n",
    "    found_deleted_cells = 0\n",
    "    for metric in user.calc_metrics(deleted):\n",
    "        total_deleted_cells += int(metric['total positives'])\n",
    "        found_deleted_cells += int(metric['total TP'])\n",
    "        \n",
    "    total_nms_cells = 0\n",
    "    found_nms_cells = 0\n",
    "    for metric in user.calc_metrics(nms):\n",
    "        total_nms_cells += int(metric['total positives'])\n",
    "        found_nms_cells += int(metric['total TP'])\n",
    "        \n",
    "    \n",
    "    metrics.append([user.expert, total_changed_cells, found_changed_cells, total_deleted_cells, found_deleted_cells, total_nms_cells, found_nms_cells])\n",
    "pd.DataFrame(metrics, columns=['Name', 'Total Changed', \"Found Changed\", \"Total Deleted\", \"Found Deleted\", \"Total NMS\", \"Found NMS\"])"
   ]
  },
  {
   "cell_type": "code",
   "execution_count": null,
   "metadata": {},
   "outputs": [],
   "source": []
  }
 ],
 "metadata": {
  "kernelspec": {
   "display_name": "Python 3",
   "language": "python",
   "name": "python3"
  },
  "language_info": {
   "codemirror_mode": {
    "name": "ipython",
    "version": 3
   },
   "file_extension": ".py",
   "mimetype": "text/x-python",
   "name": "python",
   "nbconvert_exporter": "python",
   "pygments_lexer": "ipython3",
   "version": "3.6.7"
  }
 },
 "nbformat": 4,
 "nbformat_minor": 2
}
