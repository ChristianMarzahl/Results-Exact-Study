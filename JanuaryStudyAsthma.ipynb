{
 "cells": [
  {
   "cell_type": "code",
   "execution_count": 1,
   "metadata": {},
   "outputs": [],
   "source": [
    "%reload_ext autoreload\n",
    "%autoreload 2\n",
    "%matplotlib inline"
   ]
  },
  {
   "cell_type": "code",
   "execution_count": 2,
   "metadata": {},
   "outputs": [],
   "source": [
    "import numpy as np\n",
    "from glob import glob\n",
    "from pathlib import Path\n",
    "import matplotlib.pyplot as plt\n",
    "import pandas as pd \n",
    "import seaborn as sns\n",
    "import matplotlib\n",
    "from math import pow, sqrt, ceil\n",
    "from collections import OrderedDict\n",
    "\n",
    "from sklearn.metrics import accuracy_score, cohen_kappa_score, confusion_matrix"
   ]
  },
  {
   "cell_type": "code",
   "execution_count": 9,
   "metadata": {},
   "outputs": [],
   "source": [
    "from Analysis.annotations import Annotation\n",
    "from Analysis.image import Image\n",
    "from Analysis.expert import Expert, DatasetType, ProjectType"
   ]
  },
  {
   "cell_type": "code",
   "execution_count": 4,
   "metadata": {},
   "outputs": [],
   "source": [
    "from utils import *"
   ]
  },
  {
   "cell_type": "code",
   "execution_count": 10,
   "metadata": {},
   "outputs": [],
   "source": [
    "path = Path(\"Results/Asthma/FirstRound\")\n",
    "files = glob(str(path)+\"/Participants/*.txt\")\n",
    "gt = glob(str(path)+\"/GT/*.txt\")\n",
    "users_first_round = []\n",
    "ground_truth = Expert(\"GT\", BBType.GroundTruth, DatasetType.Asthma, ProjectType.Annotation)\n",
    "ground_truth.add_file(gt[0])\n",
    "\n",
    "for file_name in files:\n",
    "    participant = \"Participant_\" + Path(file_name).stem.split(\"_\")[-1]\n",
    "    \n",
    "    expert = Expert(participant, BBType.Detected, DatasetType.Asthma, ProjectType.Annotation)\n",
    "    expert.add_file(file_name)\n",
    "\n",
    "    users_first_round.append(expert)"
   ]
  },
  {
   "cell_type": "code",
   "execution_count": 6,
   "metadata": {},
   "outputs": [
    {
     "data": {
      "text/plain": [
       "GT:  Annos: 448 Seconds: 0.0"
      ]
     },
     "execution_count": 6,
     "metadata": {},
     "output_type": "execute_result"
    }
   ],
   "source": [
    "ground_truth"
   ]
  },
  {
   "cell_type": "code",
   "execution_count": 7,
   "metadata": {},
   "outputs": [
    {
     "name": "stdout",
     "output_type": "stream",
     "text": [
      "Participant_11:  Annos: 357 Seconds: 116.85 mIoU: 0.7025812056352457\n",
      "Participant_12:  Annos: 349 Seconds: 159.23809523809524 mIoU: 0.6612295032914906\n",
      "Participant_13:  Annos: 352 Seconds: 105.52380952380952 mIoU: 0.687411155329005\n",
      "Participant_3:  Annos: 358 Seconds: 56.15 mIoU: 0.5386141782836489\n",
      "Participant_4:  Annos: 348 Seconds: 138.85 mIoU: 0.6930729728007236\n",
      "Participant_5:  Annos: 366 Seconds: 96.75 mIoU: 0.7540533260211764\n",
      "Participant_6:  Annos: 354 Seconds: 70.3 mIoU: 0.7169665972638197\n",
      "Participant_7:  Annos: 361 Seconds: 93.3 mIoU: 0.559301261545699\n",
      "Participant_8:  Annos: 359 Seconds: 84.4 mIoU: 0.6695387705262916\n",
      "Participant_9:  Annos: 359 Seconds: 120.35 mIoU: 0.7060912338998462\n"
     ]
    }
   ],
   "source": [
    "for user in users_first_round:\n",
    "    print(str(user) + \" mIoU: {}\".format(user.calc_MIoU(ground_truth)))"
   ]
  }
 ],
 "metadata": {
  "kernelspec": {
   "display_name": "Python 3",
   "language": "python",
   "name": "python3"
  },
  "language_info": {
   "codemirror_mode": {
    "name": "ipython",
    "version": 3
   },
   "file_extension": ".py",
   "mimetype": "text/x-python",
   "name": "python",
   "nbconvert_exporter": "python",
   "pygments_lexer": "ipython3",
   "version": "3.6.7"
  }
 },
 "nbformat": 4,
 "nbformat_minor": 2
}
